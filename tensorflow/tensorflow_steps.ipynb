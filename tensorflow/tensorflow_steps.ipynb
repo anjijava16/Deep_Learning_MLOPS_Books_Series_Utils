{
 "cells": [
  {
   "cell_type": "code",
   "execution_count": 1,
   "id": "initial_id",
   "metadata": {
    "collapsed": true,
    "ExecuteTime": {
     "end_time": "2024-04-02T02:17:23.603545Z",
     "start_time": "2024-04-02T02:17:21.243876Z"
    }
   },
   "outputs": [],
   "source": [
    "import tensorflow as tf"
   ]
  },
  {
   "cell_type": "code",
   "outputs": [
    {
     "name": "stdout",
     "output_type": "stream",
     "text": [
      "<module 'tensorflow' from '/Users/welcome/anaconda3/envs/saiiwinner_gen_ai/lib/python3.10/site-packages/tensorflow/__init__.py'>\n"
     ]
    }
   ],
   "source": [
    "print(tf)"
   ],
   "metadata": {
    "collapsed": false,
    "ExecuteTime": {
     "end_time": "2024-04-02T02:17:31.005415Z",
     "start_time": "2024-04-02T02:17:30.999426Z"
    }
   },
   "id": "99a7bc48840b3b35",
   "execution_count": 2
  },
  {
   "cell_type": "code",
   "outputs": [
    {
     "name": "stdout",
     "output_type": "stream",
     "text": [
      "2.16.1\n"
     ]
    }
   ],
   "source": [
    "print(tf.__version__)"
   ],
   "metadata": {
    "collapsed": false,
    "ExecuteTime": {
     "end_time": "2024-04-02T02:17:53.642742Z",
     "start_time": "2024-04-02T02:17:53.639165Z"
    }
   },
   "id": "46aed3c355235a23",
   "execution_count": 3
  },
  {
   "cell_type": "code",
   "outputs": [],
   "source": [
    "import keras"
   ],
   "metadata": {
    "collapsed": false,
    "ExecuteTime": {
     "end_time": "2024-04-02T02:22:10.319965Z",
     "start_time": "2024-04-02T02:22:10.313243Z"
    }
   },
   "id": "7d06a7106735f825",
   "execution_count": 7
  },
  {
   "cell_type": "code",
   "outputs": [
    {
     "name": "stdout",
     "output_type": "stream",
     "text": [
      "<module 'keras' from '/Users/welcome/anaconda3/envs/saiiwinner_gen_ai/lib/python3.10/site-packages/keras/__init__.py'>\n"
     ]
    }
   ],
   "source": [
    "print(keras)"
   ],
   "metadata": {
    "collapsed": false,
    "ExecuteTime": {
     "end_time": "2024-04-02T02:22:13.008670Z",
     "start_time": "2024-04-02T02:22:13.003383Z"
    }
   },
   "id": "bf96f980bcf751b0",
   "execution_count": 8
  },
  {
   "cell_type": "code",
   "outputs": [
    {
     "name": "stdout",
     "output_type": "stream",
     "text": [
      "3.1.1\n"
     ]
    }
   ],
   "source": [
    "print(keras.__version__)"
   ],
   "metadata": {
    "collapsed": false,
    "ExecuteTime": {
     "end_time": "2024-04-02T02:22:24.400139Z",
     "start_time": "2024-04-02T02:22:24.389465Z"
    }
   },
   "id": "28569a31dcc8e092",
   "execution_count": 9
  },
  {
   "cell_type": "code",
   "outputs": [
    {
     "name": "stdout",
     "output_type": "stream",
     "text": [
      "2.16.1\n"
     ]
    }
   ],
   "source": [
    "import os\n",
    "\n",
    "import tensorflow as tf\n",
    "from tensorflow import keras\n",
    "\n",
    "print(tf.version.VERSION)"
   ],
   "metadata": {
    "collapsed": false,
    "ExecuteTime": {
     "end_time": "2024-04-02T02:41:35.004661Z",
     "start_time": "2024-04-02T02:41:34.985037Z"
    }
   },
   "id": "a1007e804e9f2b38",
   "execution_count": 10
  },
  {
   "cell_type": "code",
   "outputs": [],
   "source": [],
   "metadata": {
    "collapsed": false
   },
   "id": "5d65e248d370d89"
  }
 ],
 "metadata": {
  "kernelspec": {
   "display_name": "Python 3",
   "language": "python",
   "name": "python3"
  },
  "language_info": {
   "codemirror_mode": {
    "name": "ipython",
    "version": 2
   },
   "file_extension": ".py",
   "mimetype": "text/x-python",
   "name": "python",
   "nbconvert_exporter": "python",
   "pygments_lexer": "ipython2",
   "version": "2.7.6"
  }
 },
 "nbformat": 4,
 "nbformat_minor": 5
}
